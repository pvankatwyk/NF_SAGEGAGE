{
  "cells": [
    {
      "cell_type": "code",
      "execution_count": null,
      "metadata": {
        "id": "5dk3TQAfwnTI"
      },
      "outputs": [],
      "source": [
        "from google.colab import files\n",
        "import matplotlib.pyplot as plt\n",
        "import sklearn.datasets as datasets\n",
        "from sklearn.model_selection import train_test_split\n",
        "from tqdm import tqdm\n",
        "import pandas as pd\n",
        "from tensorflow import keras\n",
        "import numpy as np\n",
        "import seaborn as sns\n",
        "import tensorflow as tf\n",
        "import time\n",
        "import torch\n",
        "from torch import nn\n",
        "from torch import optim\n",
        "\n",
        "random_state=30\n",
        "\n",
        "try:\n",
        "    from nflows.flows.base import Flow\n",
        "    from nflows.distributions.normal import ConditionalDiagonalNormal\n",
        "    from nflows.transforms.base import CompositeTransform\n",
        "    from nflows.transforms.autoregressive import MaskedAffineAutoregressiveTransform\n",
        "    from nflows.transforms.permutations import ReversePermutation\n",
        "    from nflows.nn.nets import ResidualNet\n",
        "except:\n",
        "    !pip install nflows\n",
        "    from nflows.flows.base import Flow\n",
        "    from nflows.distributions.normal import ConditionalDiagonalNormal\n",
        "    from nflows.transforms.base import CompositeTransform\n",
        "    from nflows.transforms.autoregressive import MaskedAffineAutoregressiveTransform\n",
        "    from nflows.transforms.permutations import ReversePermutation\n",
        "    from nflows.nn.nets import ResidualNet"
      ]
    },
    {
      "cell_type": "code",
      "execution_count": null,
      "metadata": {
        "id": "Dp8KySWswnTL"
      },
      "outputs": [],
      "source": [
        "x, y = datasets.make_moons(128, noise=.1, random_state=random_state)\n",
        "plt.scatter(x[:, 0], x[:, 1], c=y);"
      ]
    },
    {
      "cell_type": "code",
      "execution_count": null,
      "metadata": {
        "id": "Cj9z2gsMwnTN"
      },
      "outputs": [],
      "source": [
        "# Make NF\n",
        "num_layers = 5\n",
        "base_dist = ConditionalDiagonalNormal(shape=[2], \n",
        "                                      context_encoder=nn.Linear(1, 4))\n",
        "\n",
        "transforms = []\n",
        "for _ in range(num_layers):\n",
        "    transforms.append(ReversePermutation(features=2))\n",
        "    transforms.append(MaskedAffineAutoregressiveTransform(features=2, \n",
        "                                                          hidden_features=4, \n",
        "                                                          context_features=1))\n",
        "transform = CompositeTransform(transforms)\n",
        "\n",
        "flow = Flow(transform, base_dist)\n",
        "optimizer = optim.Adam(flow.parameters())"
      ]
    },
    {
      "cell_type": "code",
      "execution_count": null,
      "metadata": {
        "id": "UEBIBHp_wnTO"
      },
      "outputs": [],
      "source": [
        "# Train NF\n",
        "num_iter = 5000\n",
        "x, y = datasets.make_moons(1000, noise=.1)\n",
        "x = torch.tensor(x, dtype=torch.float32)\n",
        "y = torch.tensor(y, dtype=torch.float32).reshape(-1, 1)\n",
        "start = time.time()\n",
        "for i in tqdm(range(num_iter)):\n",
        "    \n",
        "    optimizer.zero_grad()\n",
        "    loss = -flow.log_prob(inputs=x, context=y).mean()\n",
        "    loss.backward()\n",
        "    optimizer.step()\n",
        "    \n",
        "    if (i + 1) % 500 == 0:\n",
        "        fig, ax = plt.subplots(1, 2, figsize=(15,8))\n",
        "        xline = torch.linspace(-1.5, 2.5, 100)\n",
        "        yline = torch.linspace(-.75, 1.25, 100)\n",
        "        xgrid, ygrid = torch.meshgrid(xline, yline)\n",
        "        xyinput = torch.cat([xgrid.reshape(-1, 1), ygrid.reshape(-1, 1)], dim=1)\n",
        "\n",
        "        with torch.no_grad():\n",
        "            zgrid0 = flow.log_prob(xyinput, torch.zeros(10000, 1)).exp().reshape(100, 100)\n",
        "            zgrid1 = flow.log_prob(xyinput, torch.ones(10000, 1)).exp().reshape(100, 100)\n",
        "            T=2\n",
        "            for _ in tqdm(range(T-1)):\n",
        "                zgrid0 += flow.log_prob(xyinput, torch.zeros(10000, 1)).exp().reshape(100, 100)\n",
        "                zgrid1 += flow.log_prob(xyinput, torch.ones(10000, 1)).exp().reshape(100, 100)\n",
        "                zgrid0_mean = zgrid0.numpy()/T\n",
        "                zgrid1_mean = zgrid1.numpy()/T\n",
        "\n",
        "        ax[0].contourf(xgrid.numpy(), ygrid.numpy(), zgrid0_mean)\n",
        "        ax[1].contourf(xgrid.numpy(), ygrid.numpy(), zgrid1_mean)\n",
        "        plt.title('iteration {}'.format(i + 1))\n",
        "        # if i+1 == num_iter:\n",
        "            # x_ = x.numpy()\n",
        "            # y_ = y.squeeze().numpy()\n",
        "            # x0 = x_[y_==0]\n",
        "            # x1 = x_[y_==1]\n",
        "            # ax[0].scatter(x0[:, 0], x0[:, 1], color='red');\n",
        "            # ax[1].scatter(x1[:, 0], x1[:, 1], color='red');\n",
        "\n",
        "            # plt.savefig('nf.png')\n",
        "            # files.download('nf.png')\n",
        "            # pass\n",
        "        plt.show()\n",
        "        print('')\n",
        "print(f\"Time to train: {time.time()-start} seconds\")"
      ]
    },
    {
      "cell_type": "code",
      "execution_count": null,
      "metadata": {
        "id": "Lb6BETZtGCWm"
      },
      "outputs": [],
      "source": [
        "import seaborn as sns\n",
        "x, y = datasets.make_moons(1000, noise=.1, random_state=random_state)\n",
        "plt.figure(figsize=(10,8))\n",
        "\n",
        "sns.scatterplot(x[:, 0], x[:, 1], c=y)\n",
        "plt.savefig('moons.png')\n",
        "# files.download('moons.png')"
      ]
    },
    {
      "cell_type": "code",
      "execution_count": null,
      "metadata": {
        "id": "0AF8YZriqKAQ"
      },
      "outputs": [],
      "source": [
        "x_ = x\n",
        "y_ = y\n",
        "x0 = x_[y_==0]\n",
        "x1 = x_[y_==1]"
      ]
    },
    {
      "cell_type": "code",
      "execution_count": null,
      "metadata": {
        "id": "rK-YMYOgs_DS"
      },
      "outputs": [],
      "source": [
        "num_examples = 300\n",
        "zero = flow.sample(num_examples, torch.zeros(100, 1)).detach().numpy()\n",
        "one = flow.sample(num_examples, torch.ones(100, 1)).detach().numpy()\n",
        "\n",
        "plt.figure(figsize=(10,8))\n",
        "plt.scatter(zero[0][:, 0], zero[0][:, 1], color='green')\n",
        "plt.scatter(one[0][:, 0], one[0][:,1], color='gray')\n",
        "plt.show()"
      ]
    },
    {
      "cell_type": "code",
      "execution_count": null,
      "metadata": {
        "id": "EdR_Njr2t87b"
      },
      "outputs": [],
      "source": [
        "plt.figure(figsize=(15,8))\n",
        "plt.contourf(xgrid.numpy(), ygrid.numpy(), (zgrid0_mean+zgrid1_mean))\n",
        "num_pts = 500\n",
        "plt.scatter(x[0:num_pts,0], x[0:num_pts,1], s=20, c=y[0:num_pts], cmap='flag')\n",
        "# plt.title(\"Moon Density Estimation with Normalizing Flow\")\n",
        "plt.savefig('moons_density.png')\n",
        "# files.download('moons_density.png')\n",
        "\n",
        "# TODO: Figure out colors and do the same (maybe X's for incorrect) on Neural Net\n",
        "plt.tight_layout()\n",
        "plt.show()"
      ]
    },
    {
      "cell_type": "code",
      "execution_count": null,
      "metadata": {
        "id": "btXNoOGEwnTO"
      },
      "outputs": [],
      "source": [
        "start = time.time()\n",
        "\n",
        "# (X_train, y_train), (X_test, y_test) = keras.datasets.boston_housing.load_data()\n",
        "x, y = datasets.make_moons(10000, noise=.1)\n",
        "X_train, X_test, y_train, y_test = train_test_split(x, y, train_size = 0.8)\n",
        "\n",
        "dropout_prob = 0.2\n",
        "\n",
        "# Create NN with Dropout layers after every connected layer\n",
        "model = keras.models.Sequential()\n",
        "model.add(keras.layers.Dropout(dropout_prob))\n",
        "model.add(keras.layers.Dense(128, activation=\"relu\"))\n",
        "model.add(keras.layers.Dropout(dropout_prob))\n",
        "model.add(keras.layers.Dense(64, activation=\"relu\"))\n",
        "model.add(keras.layers.Dropout(dropout_prob))\n",
        "model.add(keras.layers.Dense(1, activation=\"sigmoid\"))\n",
        "\n",
        "optimizer = keras.optimizers.Adam()\n",
        "model.compile(loss=\"binary_crossentropy\", optimizer=optimizer, metrics=['accuracy'])\n",
        "model.fit(X_train, y_train, epochs=10, validation_split=0.1, verbose=False)\n",
        "print(f\"{time.time() - start}\")\n",
        "mse, accuracy = model.evaluate(X_test, y_test)\n",
        "print(f'binary_crossentropy: {round(mse, 3)}, {accuracy}')"
      ]
    },
    {
      "cell_type": "code",
      "execution_count": null,
      "metadata": {
        "id": "-K9zHau3dTsx"
      },
      "outputs": [],
      "source": [
        "num_iterations = 1000\n",
        "predictions = []\n",
        "for _ in tqdm(range(num_iterations)):\n",
        "    predictions.append(model(X_test, training=True))\n",
        "mean, std = np.mean(np.array(predictions), axis=0), np.std(np.array(predictions), axis=0)"
      ]
    },
    {
      "cell_type": "code",
      "execution_count": null,
      "metadata": {
        "id": "8GLSvB2Siwcw"
      },
      "outputs": [],
      "source": [
        "T = 50\n",
        "predictions = []\n",
        "y_pred = model(X_test, training=True)\n",
        "for _ in tqdm(range(T-1)):\n",
        "    y_pred += model(X_test, training=True)\n",
        "y_pred = np.array(y_pred)\n",
        "y_pred = y_pred/T\n",
        "\n",
        "P_foreground = y_pred\n",
        "P_background = 1-P_foreground\n",
        "\n",
        "UQ = -(P_foreground*np.log(P_foreground)+P_background*np.log(P_background))"
      ]
    },
    {
      "cell_type": "code",
      "execution_count": null,
      "metadata": {
        "id": "082xzSQOkyAY"
      },
      "outputs": [],
      "source": [
        "y_pred"
      ]
    },
    {
      "cell_type": "code",
      "execution_count": null,
      "metadata": {
        "id": "1oJFXBFQi_Gx"
      },
      "outputs": [],
      "source": [
        "threshold=0.5\n",
        "# y_pred_class = y_pred\n",
        "y_pred_class = model.predict(X_test)\n",
        "y_pred_class[y_pred<threshold]=0\n",
        "y_pred_class[y_pred>=threshold]=1"
      ]
    },
    {
      "cell_type": "code",
      "source": [
        "sum(y_test == y_pred_class.squeeze()) / 2000."
      ],
      "metadata": {
        "id": "sh2xnbCqeWl1"
      },
      "execution_count": null,
      "outputs": []
    },
    {
      "cell_type": "code",
      "source": [
        "markers = ['o' if i == True else 'x' for i in y_test == y_pred_class.squeeze()]\n",
        "acc = y_test == y_pred_class.squeeze()\n",
        "size = (-80 * acc) + 100"
      ],
      "metadata": {
        "id": "y4jZpyF5gWs2"
      },
      "execution_count": null,
      "outputs": []
    },
    {
      "cell_type": "code",
      "execution_count": null,
      "metadata": {
        "id": "tMCG78WJkKdN"
      },
      "outputs": [],
      "source": [
        "plt.figure(figsize=(15,8))\n",
        "for i in range(len(X_test)):\n",
        "    plt.scatter(X_test[i,0], X_test[i,1], c=y_pred_class[i], cmap='flag', vmin=0, vmax=1, marker=markers[i], s=size[i])\n",
        "# plt.colorbar()\n",
        "# plt.title(\"Neural Network Output\")\n",
        "\n",
        "plt.savefig(\"mean.png\")\n",
        "# files.download(\"mean.png\") \n",
        "# plt.legend(c)\n",
        "plt.show()"
      ]
    },
    {
      "cell_type": "code",
      "execution_count": null,
      "metadata": {
        "id": "udQLItSbT-eK"
      },
      "outputs": [],
      "source": [
        "def plot_decision_boundary(X, y, model, steps=1000, cmap='Paired'):\n",
        "    \"\"\"\n",
        "    Function to plot the decision boundary and data points of a model.\n",
        "    Data points are colored based on their actual label.\n",
        "    \"\"\"\n",
        "    cmap = plt.get_cmap(cmap)\n",
        "\n",
        "    # Define region of interest by data limits\n",
        "    xmin, xmax = X[:,0].min() - 1, X[:,0].max() + 1\n",
        "    ymin, ymax = X[:,1].min() - 1, X[:,1].max() + 1\n",
        "    steps = 1000\n",
        "    x_span = np.linspace(xmin, xmax, steps)\n",
        "    y_span = np.linspace(ymin, ymax, steps)\n",
        "    xx, yy = np.meshgrid(x_span, y_span)\n",
        "\n",
        "    # Make predictions across region of interest\n",
        "    labels = model.predict(np.c_[xx.ravel(), yy.ravel()])\n",
        "    # Plot decision boundary in region of interest\n",
        "    z = labels.reshape(xx.shape)\n",
        "\n",
        "    fig, ax = plt.subplots(figsize=(15,8))\n",
        "    ax.contourf(xx, yy, z, cmap=cmap, alpha=0.5)\n",
        "\n",
        "    # Get predicted labels on training data and plot\n",
        "    train_labels = model.predict(X)\n",
        "    predicted_labels = train_labels > 0.5\n",
        "    ax.scatter(X[:,0], X[:,1], c=predicted_labels, cmap=cmap, lw=0)\n",
        "\n",
        "    return fig, ax\n",
        "\n",
        "plot_decision_boundary(X_test, y_test, model, cmap='RdBu')\n",
        "plt.show()"
      ]
    }
  ],
  "metadata": {
    "colab": {
      "collapsed_sections": [],
      "name": "nf_moons.ipynb",
      "provenance": []
    },
    "kernelspec": {
      "display_name": "Python 3",
      "language": "python",
      "name": "python3"
    },
    "language_info": {
      "codemirror_mode": {
        "name": "ipython",
        "version": 3
      },
      "file_extension": ".py",
      "mimetype": "text/x-python",
      "name": "python",
      "nbconvert_exporter": "python",
      "pygments_lexer": "ipython3",
      "version": "3.7.6"
    },
    "accelerator": "GPU"
  },
  "nbformat": 4,
  "nbformat_minor": 0
}